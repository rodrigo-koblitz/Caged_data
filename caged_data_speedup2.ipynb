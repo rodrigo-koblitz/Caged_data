{
  "nbformat": 4,
  "nbformat_minor": 0,
  "metadata": {
    "colab": {
      "provenance": [],
      "authorship_tag": "ABX9TyNXBA9G3w9CE4C8XPUo5em/",
      "include_colab_link": true
    },
    "kernelspec": {
      "name": "python3",
      "display_name": "Python 3"
    },
    "language_info": {
      "name": "python"
    }
  },
  "cells": [
    {
      "cell_type": "markdown",
      "metadata": {
        "id": "view-in-github",
        "colab_type": "text"
      },
      "source": [
        "<a href=\"https://colab.research.google.com/github/rodrigo-koblitz/Caged_data/blob/main/caged_data_speedup2.ipynb\" target=\"_parent\"><img src=\"https://colab.research.google.com/assets/colab-badge.svg\" alt=\"Open In Colab\"/></a>"
      ]
    },
    {
      "cell_type": "markdown",
      "source": [
        "A informação dos empregos formais no Brasil são fontes de inúmeras análises. Aqui pretendemos demonstrar uma forma de extração e apresentação desses dados. \n",
        "Para obter os dados faz-se necessário baixar as planilhas mês a mês no site do sistema do CAGED. Cada planilha tem um tamanho entre 8 e 22 MB. Portanto, o processo pode ser um pouco lento. A cada planilha lida voce poderá ver essa informação.\n",
        "Criaremos inicialmente um DataFrame pandas e depois uma visualização simples dos dados."
      ],
      "metadata": {
        "id": "TDdkEm91RzXN"
      }
    },
    {
      "cell_type": "markdown",
      "source": [
        "Para facilitar o uso do mês em portugues, conforme é apresentado no CAGED, instalamos o 'language-pack pt_BR' no Colab."
      ],
      "metadata": {
        "id": "X-WWLRlRGbtE"
      }
    },
    {
      "cell_type": "code",
      "source": [
        "import os\n",
        "!/usr/share/locales/install-language-pack pt_BR\n",
        "!dpkg-reconfigure locales\n",
        "os.kill(os.getpid(), 9)\n"
      ],
      "metadata": {
        "id": "M4ufKt4twqrj",
        "outputId": "b9794b59-9fa3-473f-e9f5-e6ff24593540",
        "colab": {
          "base_uri": "https://localhost:8080/"
        }
      },
      "execution_count": null,
      "outputs": [
        {
          "output_type": "stream",
          "name": "stdout",
          "text": [
            "Generating locales (this might take a while)...\n",
            "  pt_BR.ISO-8859-1... done\n",
            "Generation complete.\n",
            "\u001b[1mdpkg-trigger:\u001b[0m \u001b[1;31merror:\u001b[0m must be called from a maintainer script (or with a --by-package option)\n",
            "\n",
            "Type dpkg-trigger --help for help about this utility.\n",
            "Generating locales (this might take a while)...\n",
            "  en_US.UTF-8... done\n",
            "  pt_BR.ISO-8859-1... done\n",
            "Generation complete.\n"
          ]
        }
      ]
    },
    {
      "cell_type": "code",
      "source": [
        "import io\n",
        "from openpyxl import load_workbook\n",
        "import datetime #import datetime\n",
        "import pandas as pd\n",
        "import os\n",
        "import locale\n",
        "import matplotlib.pyplot as plt\n",
        "from matplotlib.pyplot import figure\n",
        "import requests\n",
        "import time\n",
        "import openpyxl\n",
        "from io import BytesIO\n",
        "import concurrent.futures\n",
        "import threading\n",
        "import time\n",
        "import asyncio\n",
        "import aiohttp\n",
        "def range_month(dt_ini=None,dt_fim=None):\n",
        " if not dt_fim:\n",
        "  dt_fim=datetime.datetime.now()\n",
        " if not dt_ini:\n",
        "  dt_ini='122019'\n",
        " lt_alltime=pd.date_range(datetime.datetime.strptime(dt_ini, \"%m%Y\") - datetime.timedelta(days=10),\n",
        "                          dt_fim, freq='MS')\n",
        " t_lim=datetime.datetime.strptime('122019','%m%Y')\n",
        " lt_before=[i for i in lt_alltime if i <= t_lim]\n",
        " lt_after=[i for i in lt_alltime if i > t_lim]\n",
        " return lt_before,lt_after\n",
        "def get_links(dt_ini=None,dt_fim=None):\n",
        " lt_before,lt_after=range_month(dt_ini,dt_fim)\n",
        " links_before=['ftp://ftp.mtps.gov.br/pdet/caged/%s/%s/nacionais/4-tabelas.xls'\\\n",
        "          %(i.strftime('%Y'),i.strftime('%B').replace('ç','c')) for i in lt_before]\n",
        " links_after=['http://pdet.mte.gov.br/images/Novo_CAGED/%s/3-tabelas.xlsx'\\\n",
        "          %i.strftime('%b%Y').capitalize() for i in lt_after]\n",
        " #return links_before+links_after\n",
        " return links_after\n",
        "def get_from_worksheet1(wd,muni,mesano):\n",
        "  #wd=pd.DataFrame(ws.values)\n",
        "  row=wd.loc[wd.iloc[:,2]==muni].values[0]\n",
        "  municipio=row[3]\n",
        "  saldo=row[6]\n",
        "  admissoes=row[4]\n",
        "  desligamentos=row[5]\n",
        "  var_relativa=row[7]\n",
        "  mes_anots=datetime.datetime.strptime(mesano[:7], \"%b%Y\")\n",
        "  return [municipio, saldo, admissoes, desligamentos, var_relativa, mesano, mes_anots]"
      ],
      "metadata": {
        "id": "KX4k-yqElm5S"
      },
      "execution_count": 1,
      "outputs": []
    },
    {
      "cell_type": "code",
      "source": [
        "def download_ulr(url, municipios,session):\n",
        "  #session=requests.Session()\n",
        "  with session.get(url) as r:\n",
        "   with io.BytesIO(r.content) as sheet:\n",
        "    try:\n",
        "      dfg=pd.io.excel.read_excel(sheet, sheet_name=sheet_nameN)\n",
        "    except:\n",
        "      dfg=None\n",
        "    return dfg\n",
        "def processing_df(url,municipios,session,columns):\n",
        "  print('processing: %s'%url)\n",
        "  all_values=[]\n",
        "  mesano=\"%s\"%url.split('/')[5]\n",
        "  if type(municipios)!=list:\n",
        "    municipios=[municipios]\n",
        "  df=download_ulr(url, municipios,session)\n",
        "  if df is None:\n",
        "    return None\n",
        "  for muni in municipios:\n",
        "    values=get_from_worksheet1(df,muni,mesano)\n",
        "    all_values.append(values)\n",
        "  print('url processed')\n",
        "  return pd.DataFrame(all_values, columns=columns)\n",
        "\n",
        "def get_all_urls(urls, municipios,df1):\n",
        "  dfs=[]\n",
        "  if type(urls)!=list:\n",
        "    urls=[urls]\n",
        "  with requests.Session() as session:\n",
        "   for url in urls:\n",
        "    dft=processing_df(url,municipios,session, df1.columns)\n",
        "    if dft is None:\n",
        "      return None\n",
        "    dfs.append(pd.DataFrame(dft))\n",
        "  return pd.concat(dfs,ignore_index=True)\n",
        "if __name__=='__main__':\n",
        " sheet_nameN='Tabela 3'\n",
        " columnsN=['municipio','admissoes', 'desligamentos', 'saldo', 'var_relativa', 'mes_ano', 'mes_anots']\n",
        " df1=pd.DataFrame(columns=columnsN)\n",
        " links=get_links()\n",
        " municipios=[330340, 330390,330580]\n",
        " urls=links\n",
        " start_time = time.time()\n",
        " #  for url in links[:3]:\n",
        " #   df1=add_in_df(url,municipios,df1)\n",
        " df2=get_all_urls(urls, municipios,df1)\n",
        " duration = time.time() - start_time\n",
        " print(f\"Downloaded {len(urls)} in {duration} seconds\")"
      ],
      "metadata": {
        "id": "jLcOtIbNeQqY",
        "outputId": "806048f2-16ae-402f-c963-e49b1dbd4632",
        "colab": {
          "base_uri": "https://localhost:8080/"
        }
      },
      "execution_count": null,
      "outputs": [
        {
          "output_type": "stream",
          "name": "stdout",
          "text": [
            "processing: http://pdet.mte.gov.br/images/Novo_CAGED/Jan2020/3-tabelas.xlsx\n"
          ]
        },
        {
          "output_type": "stream",
          "name": "stderr",
          "text": [
            "/usr/local/lib/python3.8/dist-packages/openpyxl/worksheet/header_footer.py:48: UserWarning: Cannot parse header or footer so it will be ignored\n",
            "  warn(\"\"\"Cannot parse header or footer so it will be ignored\"\"\")\n"
          ]
        },
        {
          "output_type": "stream",
          "name": "stdout",
          "text": [
            "url processed\n",
            "processing: http://pdet.mte.gov.br/images/Novo_CAGED/Fev2020/3-tabelas.xlsx\n",
            "url processed\n",
            "processing: http://pdet.mte.gov.br/images/Novo_CAGED/Mar2020/3-tabelas.xlsx\n",
            "url processed\n",
            "processing: http://pdet.mte.gov.br/images/Novo_CAGED/Abr2020/3-tabelas.xlsx\n",
            "url processed\n",
            "processing: http://pdet.mte.gov.br/images/Novo_CAGED/Mai2020/3-tabelas.xlsx\n",
            "url processed\n",
            "processing: http://pdet.mte.gov.br/images/Novo_CAGED/Jun2020/3-tabelas.xlsx\n",
            "url processed\n",
            "processing: http://pdet.mte.gov.br/images/Novo_CAGED/Jul2020/3-tabelas.xlsx\n",
            "url processed\n",
            "processing: http://pdet.mte.gov.br/images/Novo_CAGED/Ago2020/3-tabelas.xlsx\n",
            "url processed\n",
            "processing: http://pdet.mte.gov.br/images/Novo_CAGED/Set2020/3-tabelas.xlsx\n",
            "url processed\n",
            "processing: http://pdet.mte.gov.br/images/Novo_CAGED/Out2020/3-tabelas.xlsx\n",
            "url processed\n",
            "processing: http://pdet.mte.gov.br/images/Novo_CAGED/Nov2020/3-tabelas.xlsx\n",
            "url processed\n",
            "processing: http://pdet.mte.gov.br/images/Novo_CAGED/Dez2020/3-tabelas.xlsx\n",
            "url processed\n",
            "processing: http://pdet.mte.gov.br/images/Novo_CAGED/Jan2021/3-tabelas.xlsx\n",
            "url processed\n",
            "processing: http://pdet.mte.gov.br/images/Novo_CAGED/Fev2021/3-tabelas.xlsx\n",
            "url processed\n",
            "processing: http://pdet.mte.gov.br/images/Novo_CAGED/Mar2021/3-tabelas.xlsx\n",
            "url processed\n",
            "processing: http://pdet.mte.gov.br/images/Novo_CAGED/Abr2021/3-tabelas.xlsx\n",
            "url processed\n",
            "processing: http://pdet.mte.gov.br/images/Novo_CAGED/Mai2021/3-tabelas.xlsx\n",
            "url processed\n",
            "processing: http://pdet.mte.gov.br/images/Novo_CAGED/Jun2021/3-tabelas.xlsx\n",
            "url processed\n",
            "processing: http://pdet.mte.gov.br/images/Novo_CAGED/Jul2021/3-tabelas.xlsx\n",
            "url processed\n",
            "processing: http://pdet.mte.gov.br/images/Novo_CAGED/Ago2021/3-tabelas.xlsx\n",
            "url processed\n",
            "processing: http://pdet.mte.gov.br/images/Novo_CAGED/Set2021/3-tabelas.xlsx\n",
            "url processed\n",
            "processing: http://pdet.mte.gov.br/images/Novo_CAGED/Out2021/3-tabelas.xlsx\n",
            "url processed\n",
            "processing: http://pdet.mte.gov.br/images/Novo_CAGED/Nov2021/3-tabelas.xlsx\n",
            "url processed\n",
            "processing: http://pdet.mte.gov.br/images/Novo_CAGED/Dez2021/3-tabelas.xlsx\n",
            "url processed\n",
            "processing: http://pdet.mte.gov.br/images/Novo_CAGED/Jan2022/3-tabelas.xlsx\n",
            "url processed\n",
            "processing: http://pdet.mte.gov.br/images/Novo_CAGED/Fev2022/3-tabelas.xlsx\n",
            "url processed\n",
            "processing: http://pdet.mte.gov.br/images/Novo_CAGED/Mar2022/3-tabelas.xlsx\n",
            "url processed\n",
            "processing: http://pdet.mte.gov.br/images/Novo_CAGED/Abr2022/3-tabelas.xlsx\n",
            "url processed\n",
            "processing: http://pdet.mte.gov.br/images/Novo_CAGED/Mai2022/3-tabelas.xlsx\n",
            "url processed\n",
            "processing: http://pdet.mte.gov.br/images/Novo_CAGED/Jun2022/3-tabelas.xlsx\n",
            "url processed\n",
            "processing: http://pdet.mte.gov.br/images/Novo_CAGED/Jul2022/3-tabelas.xlsx\n",
            "url processed\n",
            "processing: http://pdet.mte.gov.br/images/Novo_CAGED/Ago2022/3-tabelas.xlsx\n",
            "url processed\n",
            "processing: http://pdet.mte.gov.br/images/Novo_CAGED/Set2022/3-tabelas.xlsx\n",
            "url processed\n",
            "processing: http://pdet.mte.gov.br/images/Novo_CAGED/Out2022/3-tabelas.xlsx\n",
            "url processed\n",
            "processing: http://pdet.mte.gov.br/images/Novo_CAGED/Nov2022/3-tabelas.xlsx\n",
            "url processed\n",
            "processing: http://pdet.mte.gov.br/images/Novo_CAGED/Dez2022/3-tabelas.xlsx\n",
            "url processed\n",
            "processing: http://pdet.mte.gov.br/images/Novo_CAGED/Jan2023/3-tabelas.xlsx\n",
            "Downloaded 38 in 329.14598631858826 seconds\n"
          ]
        }
      ]
    },
    {
      "cell_type": "markdown",
      "source": [
        "Now, let's use the threading strategy"
      ],
      "metadata": {
        "id": "e2qXv9KVeJFR"
      }
    },
    {
      "cell_type": "code",
      "source": [
        "def download_ulr(url, municipios,session):\n",
        "  #session=requests.Session()\n",
        "  with session.get(url) as r:\n",
        "   with io.BytesIO(r.content) as sheet:\n",
        "     try:\n",
        "       dfg=pd.io.excel.read_excel(sheet, sheet_name=sheet_nameN)\n",
        "     except:\n",
        "       dfg=None\n",
        "     return dfg\n",
        "def processing_df(url,municipios,session, columns):\n",
        "  all_values=[]\n",
        "  mesano=\"%s\"%url.split('/')[5]\n",
        "  df=download_ulr(url, municipios,session)\n",
        "  if df is None:\n",
        "    return None\n",
        "  if type(municipios)!=list:\n",
        "    municipios=[municipios]\n",
        "  for muni in municipios:\n",
        "   all_values.append(get_from_worksheet1(df,muni,mesano))\n",
        "  return pd.DataFrame(all_values, columns=columns)\n",
        "def get_all_urls(urls, municipios, df1):\n",
        "  dfs = []\n",
        "  if type(urls) != list:\n",
        "    urls = [urls]\n",
        "  columns = df1.columns\n",
        "  with requests.Session() as session:\n",
        "    with concurrent.futures.ThreadPoolExecutor(max_workers=10) as executor:\n",
        "      futures = []\n",
        "      for url in urls:\n",
        "        print(url)\n",
        "        futures.append(executor.submit(processing_df, url, municipios, session, columns))\n",
        "\n",
        "        # with concurrent.futures.ThreadPoolExecutor(max_workers=5) as executor:\n",
        "        # executor.map(download_site, sites)\n",
        "\n",
        "\n",
        "      for future in concurrent.futures.as_completed(futures):\n",
        "        dft = future.result()\n",
        "        if dft is not None:\n",
        "          dfs.append(dft)\n",
        "  return pd.concat(dfs, ignore_index=True)\n",
        "if __name__=='__main__':\n",
        " sheet_nameN='Tabela 3'\n",
        " columnsN=['municipio','admissoes', 'desligamentos', 'saldo', 'var_relativa', 'mes_ano', 'mes_anots']\n",
        " df1=pd.DataFrame(columns=columnsN)\n",
        " links=get_links()\n",
        " municipios=[330340, 330390,330580]\n",
        " urls=links\n",
        " start_time = time.time()\n",
        " #  for url in links[:3]:\n",
        " #   df1=add_in_df(url,municipios,df1)\n",
        " df2=get_all_urls(urls, municipios,df1)\n",
        " duration = time.time() - start_time\n",
        " print(f\"Downloaded {len(urls)} in {duration} seconds\")"
      ],
      "metadata": {
        "id": "NM4tZcsBf6kZ",
        "outputId": "cc786b4f-04ce-48ee-afb2-0bfd6702abc3",
        "colab": {
          "base_uri": "https://localhost:8080/"
        }
      },
      "execution_count": null,
      "outputs": [
        {
          "output_type": "stream",
          "name": "stdout",
          "text": [
            "http://pdet.mte.gov.br/images/Novo_CAGED/Jan2020/3-tabelas.xlsx\n",
            "http://pdet.mte.gov.br/images/Novo_CAGED/Fev2020/3-tabelas.xlsx\n",
            "http://pdet.mte.gov.br/images/Novo_CAGED/Mar2020/3-tabelas.xlsx\n",
            "http://pdet.mte.gov.br/images/Novo_CAGED/Abr2020/3-tabelas.xlsx\n",
            "http://pdet.mte.gov.br/images/Novo_CAGED/Mai2020/3-tabelas.xlsx\n",
            "http://pdet.mte.gov.br/images/Novo_CAGED/Jun2020/3-tabelas.xlsx\n",
            "http://pdet.mte.gov.br/images/Novo_CAGED/Jul2020/3-tabelas.xlsx\n",
            "http://pdet.mte.gov.br/images/Novo_CAGED/Ago2020/3-tabelas.xlsx\n",
            "http://pdet.mte.gov.br/images/Novo_CAGED/Set2020/3-tabelas.xlsx\n",
            "http://pdet.mte.gov.br/images/Novo_CAGED/Out2020/3-tabelas.xlsx\n",
            "http://pdet.mte.gov.br/images/Novo_CAGED/Nov2020/3-tabelas.xlsx\n",
            "http://pdet.mte.gov.br/images/Novo_CAGED/Dez2020/3-tabelas.xlsx\n",
            "http://pdet.mte.gov.br/images/Novo_CAGED/Jan2021/3-tabelas.xlsx\n",
            "http://pdet.mte.gov.br/images/Novo_CAGED/Fev2021/3-tabelas.xlsx\n",
            "http://pdet.mte.gov.br/images/Novo_CAGED/Mar2021/3-tabelas.xlsx\n",
            "http://pdet.mte.gov.br/images/Novo_CAGED/Abr2021/3-tabelas.xlsx\n",
            "http://pdet.mte.gov.br/images/Novo_CAGED/Mai2021/3-tabelas.xlsx\n",
            "http://pdet.mte.gov.br/images/Novo_CAGED/Jun2021/3-tabelas.xlsx\n",
            "http://pdet.mte.gov.br/images/Novo_CAGED/Jul2021/3-tabelas.xlsx\n",
            "http://pdet.mte.gov.br/images/Novo_CAGED/Ago2021/3-tabelas.xlsx\n",
            "http://pdet.mte.gov.br/images/Novo_CAGED/Set2021/3-tabelas.xlsx\n",
            "http://pdet.mte.gov.br/images/Novo_CAGED/Out2021/3-tabelas.xlsx\n",
            "http://pdet.mte.gov.br/images/Novo_CAGED/Nov2021/3-tabelas.xlsx\n",
            "http://pdet.mte.gov.br/images/Novo_CAGED/Dez2021/3-tabelas.xlsx\n",
            "http://pdet.mte.gov.br/images/Novo_CAGED/Jan2022/3-tabelas.xlsx\n",
            "http://pdet.mte.gov.br/images/Novo_CAGED/Fev2022/3-tabelas.xlsx\n",
            "http://pdet.mte.gov.br/images/Novo_CAGED/Mar2022/3-tabelas.xlsx\n",
            "http://pdet.mte.gov.br/images/Novo_CAGED/Abr2022/3-tabelas.xlsx\n",
            "http://pdet.mte.gov.br/images/Novo_CAGED/Mai2022/3-tabelas.xlsx\n",
            "http://pdet.mte.gov.br/images/Novo_CAGED/Jun2022/3-tabelas.xlsx\n",
            "http://pdet.mte.gov.br/images/Novo_CAGED/Jul2022/3-tabelas.xlsx\n",
            "http://pdet.mte.gov.br/images/Novo_CAGED/Ago2022/3-tabelas.xlsx\n",
            "http://pdet.mte.gov.br/images/Novo_CAGED/Set2022/3-tabelas.xlsx\n",
            "http://pdet.mte.gov.br/images/Novo_CAGED/Out2022/3-tabelas.xlsx\n",
            "http://pdet.mte.gov.br/images/Novo_CAGED/Nov2022/3-tabelas.xlsx\n",
            "http://pdet.mte.gov.br/images/Novo_CAGED/Dez2022/3-tabelas.xlsx\n",
            "http://pdet.mte.gov.br/images/Novo_CAGED/Jan2023/3-tabelas.xlsx\n",
            "http://pdet.mte.gov.br/images/Novo_CAGED/Fev2023/3-tabelas.xlsx\n"
          ]
        },
        {
          "output_type": "stream",
          "name": "stderr",
          "text": [
            "/usr/local/lib/python3.8/dist-packages/openpyxl/worksheet/header_footer.py:48: UserWarning: Cannot parse header or footer so it will be ignored\n",
            "  warn(\"\"\"Cannot parse header or footer so it will be ignored\"\"\")\n"
          ]
        },
        {
          "output_type": "stream",
          "name": "stdout",
          "text": [
            "Downloaded 38 in 91.82796049118042 seconds\n"
          ]
        }
      ]
    },
    {
      "cell_type": "markdown",
      "source": [
        "Now we test asyncio "
      ],
      "metadata": {
        "id": "exM01jY3sNHi"
      }
    },
    {
      "cell_type": "code",
      "source": [
        "async def download_ulr(url, municipios,session):\n",
        "  #session=requests.Session()\n",
        "  async with session.get(url) as r:\n",
        "   with io.BytesIO(r.content) as sheet:\n",
        "    if sheet is not None:\n",
        "      return await pd.io.excel.read_excel(sheet, sheet_name=sheet_nameN)\n",
        "    else:\n",
        "      return None\n",
        "\n",
        "def processing_df(url,municipios,session,columns):\n",
        "  print('processing: %s'%url)\n",
        "  all_values=[]\n",
        "  mesano=\"%s\"%url.split('/')[5]\n",
        "  if type(municipios)!=list:\n",
        "    municipios=[municipios]\n",
        "  df=download_ulr(url, municipios,session)\n",
        "  if df is None:\n",
        "    return None\n",
        "  for muni in municipios:\n",
        "    values=get_from_worksheet1(df,muni,mesano)\n",
        "    all_values.append(values)\n",
        "  print('url processed')\n",
        "  return pd.DataFrame(all_values, columns=columns)\n",
        "async def download_all_sites(sites):\n",
        "    async with aiohttp.ClientSession() as session:\n",
        "        tasks = []\n",
        "        for url in sites:\n",
        "            task = asyncio.ensure_future(download_site(session, url))\n",
        "            tasks.append(task)\n",
        "        await asyncio.gather(*tasks, return_exceptions=True)\n",
        "async def get_all_urls(urls, municipios,df1):\n",
        "  if type(urls)!=list:\n",
        "    urls=[urls]\n",
        "  async with aiohttp.ClientSession() as session:\n",
        "    dfs=[]\n",
        "    for url in urls:\n",
        "      task = asyncio.ensure_future(processing_df(url,municipios,session, df1.columns))\n",
        "      tasks.append(task)\n",
        "    results = await asyncio.gather(*tasks)\n",
        "    for data in results:\n",
        "      if data is not None:\n",
        "        df = pd.read_html(data)[0]\n",
        "        dfs.append(df)\n",
        "  return pd.concat(dfs,ignore_index=True)\n",
        "\n",
        "if __name__=='__main__':\n",
        " sheet_nameN='Tabela 3'\n",
        " columnsN=['municipio','admissoes', 'desligamentos', 'saldo', 'var_relativa', 'mes_ano', 'mes_anots']\n",
        " df1=pd.DataFrame(columns=columnsN)\n",
        " links=get_links()\n",
        " municipios=[330340, 330390,330580]\n",
        " urls=links\n",
        " start_time = time.time()\n",
        " #  for url in links[:3]:\n",
        " #   df1=add_in_df(url,municipios,df1)\n",
        " df2 =asyncio.get_event_loop().run_until_complete((get_all_urls(urls, municipios,df1)))\n",
        " #df2 = asyncio.run((get_all_urls(urls, municipios,df1)))\n",
        " duration = time.time() - start_time\n",
        " print(f\"Downloaded {len(urls)} in {duration} seconds\")\n",
        "\n"
      ],
      "metadata": {
        "id": "Cc-nup4_D_LG",
        "outputId": "097f4fa5-78d6-4666-bbef-a158bbf2c419",
        "colab": {
          "base_uri": "https://localhost:8080/",
          "height": 383
        }
      },
      "execution_count": null,
      "outputs": [
        {
          "output_type": "error",
          "ename": "RuntimeError",
          "evalue": "ignored",
          "traceback": [
            "\u001b[0;31m---------------------------------------------------------------------------\u001b[0m",
            "\u001b[0;31mRuntimeError\u001b[0m                              Traceback (most recent call last)",
            "\u001b[0;32m<ipython-input-3-07892ac4d84c>\u001b[0m in \u001b[0;36m<module>\u001b[0;34m\u001b[0m\n\u001b[1;32m     54\u001b[0m  \u001b[0;31m#  for url in links[:3]:\u001b[0m\u001b[0;34m\u001b[0m\u001b[0;34m\u001b[0m\u001b[0;34m\u001b[0m\u001b[0m\n\u001b[1;32m     55\u001b[0m  \u001b[0;31m#   df1=add_in_df(url,municipios,df1)\u001b[0m\u001b[0;34m\u001b[0m\u001b[0;34m\u001b[0m\u001b[0;34m\u001b[0m\u001b[0m\n\u001b[0;32m---> 56\u001b[0;31m  \u001b[0mdf2\u001b[0m \u001b[0;34m=\u001b[0m\u001b[0masyncio\u001b[0m\u001b[0;34m.\u001b[0m\u001b[0mget_event_loop\u001b[0m\u001b[0;34m(\u001b[0m\u001b[0;34m)\u001b[0m\u001b[0;34m.\u001b[0m\u001b[0mrun_until_complete\u001b[0m\u001b[0;34m(\u001b[0m\u001b[0;34m(\u001b[0m\u001b[0mget_all_urls\u001b[0m\u001b[0;34m(\u001b[0m\u001b[0murls\u001b[0m\u001b[0;34m,\u001b[0m \u001b[0mmunicipios\u001b[0m\u001b[0;34m,\u001b[0m\u001b[0mdf1\u001b[0m\u001b[0;34m)\u001b[0m\u001b[0;34m)\u001b[0m\u001b[0;34m)\u001b[0m\u001b[0;34m\u001b[0m\u001b[0;34m\u001b[0m\u001b[0m\n\u001b[0m\u001b[1;32m     57\u001b[0m  \u001b[0;31m#df2 = asyncio.run((get_all_urls(urls, municipios,df1)))\u001b[0m\u001b[0;34m\u001b[0m\u001b[0;34m\u001b[0m\u001b[0;34m\u001b[0m\u001b[0m\n\u001b[1;32m     58\u001b[0m  \u001b[0mduration\u001b[0m \u001b[0;34m=\u001b[0m \u001b[0mtime\u001b[0m\u001b[0;34m.\u001b[0m\u001b[0mtime\u001b[0m\u001b[0;34m(\u001b[0m\u001b[0;34m)\u001b[0m \u001b[0;34m-\u001b[0m \u001b[0mstart_time\u001b[0m\u001b[0;34m\u001b[0m\u001b[0;34m\u001b[0m\u001b[0m\n",
            "\u001b[0;32m/usr/lib/python3.8/asyncio/base_events.py\u001b[0m in \u001b[0;36mrun_until_complete\u001b[0;34m(self, future)\u001b[0m\n\u001b[1;32m    590\u001b[0m         \"\"\"\n\u001b[1;32m    591\u001b[0m         \u001b[0mself\u001b[0m\u001b[0;34m.\u001b[0m\u001b[0m_check_closed\u001b[0m\u001b[0;34m(\u001b[0m\u001b[0;34m)\u001b[0m\u001b[0;34m\u001b[0m\u001b[0;34m\u001b[0m\u001b[0m\n\u001b[0;32m--> 592\u001b[0;31m         \u001b[0mself\u001b[0m\u001b[0;34m.\u001b[0m\u001b[0m_check_running\u001b[0m\u001b[0;34m(\u001b[0m\u001b[0;34m)\u001b[0m\u001b[0;34m\u001b[0m\u001b[0;34m\u001b[0m\u001b[0m\n\u001b[0m\u001b[1;32m    593\u001b[0m \u001b[0;34m\u001b[0m\u001b[0m\n\u001b[1;32m    594\u001b[0m         \u001b[0mnew_task\u001b[0m \u001b[0;34m=\u001b[0m \u001b[0;32mnot\u001b[0m \u001b[0mfutures\u001b[0m\u001b[0;34m.\u001b[0m\u001b[0misfuture\u001b[0m\u001b[0;34m(\u001b[0m\u001b[0mfuture\u001b[0m\u001b[0;34m)\u001b[0m\u001b[0;34m\u001b[0m\u001b[0;34m\u001b[0m\u001b[0m\n",
            "\u001b[0;32m/usr/lib/python3.8/asyncio/base_events.py\u001b[0m in \u001b[0;36m_check_running\u001b[0;34m(self)\u001b[0m\n\u001b[1;32m    550\u001b[0m     \u001b[0;32mdef\u001b[0m \u001b[0m_check_running\u001b[0m\u001b[0;34m(\u001b[0m\u001b[0mself\u001b[0m\u001b[0;34m)\u001b[0m\u001b[0;34m:\u001b[0m\u001b[0;34m\u001b[0m\u001b[0;34m\u001b[0m\u001b[0m\n\u001b[1;32m    551\u001b[0m         \u001b[0;32mif\u001b[0m \u001b[0mself\u001b[0m\u001b[0;34m.\u001b[0m\u001b[0mis_running\u001b[0m\u001b[0;34m(\u001b[0m\u001b[0;34m)\u001b[0m\u001b[0;34m:\u001b[0m\u001b[0;34m\u001b[0m\u001b[0;34m\u001b[0m\u001b[0m\n\u001b[0;32m--> 552\u001b[0;31m             \u001b[0;32mraise\u001b[0m \u001b[0mRuntimeError\u001b[0m\u001b[0;34m(\u001b[0m\u001b[0;34m'This event loop is already running'\u001b[0m\u001b[0;34m)\u001b[0m\u001b[0;34m\u001b[0m\u001b[0;34m\u001b[0m\u001b[0m\n\u001b[0m\u001b[1;32m    553\u001b[0m         \u001b[0;32mif\u001b[0m \u001b[0mevents\u001b[0m\u001b[0;34m.\u001b[0m\u001b[0m_get_running_loop\u001b[0m\u001b[0;34m(\u001b[0m\u001b[0;34m)\u001b[0m \u001b[0;32mis\u001b[0m \u001b[0;32mnot\u001b[0m \u001b[0;32mNone\u001b[0m\u001b[0;34m:\u001b[0m\u001b[0;34m\u001b[0m\u001b[0;34m\u001b[0m\u001b[0m\n\u001b[1;32m    554\u001b[0m             raise RuntimeError(\n",
            "\u001b[0;31mRuntimeError\u001b[0m: This event loop is already running"
          ]
        }
      ]
    },
    {
      "cell_type": "code",
      "source": [
        "async def fetch(url):\n",
        "    async with aiohttp.ClientSession() as session:\n",
        "        async with session.get(url) as response:\n",
        "            return await response.text()\n",
        "\n",
        "async def main():\n",
        "    urls = ['https://www.example.com', 'https://www.google.com', 'https://www.python.org']\n",
        "    tasks = []\n",
        "    for url in urls:\n",
        "        tasks.append(asyncio.create_task(fetch(url)))\n",
        "    results = await asyncio.gather(*tasks)\n",
        "    print(results)\n",
        "\n",
        "loop = asyncio.get_event_loop()\n",
        "loop.run_until_complete(main())\n"
      ],
      "metadata": {
        "id": "8x_h6_EgJhq4",
        "outputId": "449ba75e-c508-4a5f-ffb2-09322cb6d102",
        "colab": {
          "base_uri": "https://localhost:8080/",
          "height": 348
        }
      },
      "execution_count": 2,
      "outputs": [
        {
          "output_type": "error",
          "ename": "RuntimeError",
          "evalue": "ignored",
          "traceback": [
            "\u001b[0;31m---------------------------------------------------------------------------\u001b[0m",
            "\u001b[0;31mRuntimeError\u001b[0m                              Traceback (most recent call last)",
            "\u001b[0;32m<ipython-input-2-694a0bf9a431>\u001b[0m in \u001b[0;36m<module>\u001b[0;34m\u001b[0m\n\u001b[1;32m     13\u001b[0m \u001b[0;34m\u001b[0m\u001b[0m\n\u001b[1;32m     14\u001b[0m \u001b[0mloop\u001b[0m \u001b[0;34m=\u001b[0m \u001b[0masyncio\u001b[0m\u001b[0;34m.\u001b[0m\u001b[0mget_event_loop\u001b[0m\u001b[0;34m(\u001b[0m\u001b[0;34m)\u001b[0m\u001b[0;34m\u001b[0m\u001b[0;34m\u001b[0m\u001b[0m\n\u001b[0;32m---> 15\u001b[0;31m \u001b[0mloop\u001b[0m\u001b[0;34m.\u001b[0m\u001b[0mrun_until_complete\u001b[0m\u001b[0;34m(\u001b[0m\u001b[0mmain\u001b[0m\u001b[0;34m(\u001b[0m\u001b[0;34m)\u001b[0m\u001b[0;34m)\u001b[0m\u001b[0;34m\u001b[0m\u001b[0;34m\u001b[0m\u001b[0m\n\u001b[0m",
            "\u001b[0;32m/usr/lib/python3.8/asyncio/base_events.py\u001b[0m in \u001b[0;36mrun_until_complete\u001b[0;34m(self, future)\u001b[0m\n\u001b[1;32m    590\u001b[0m         \"\"\"\n\u001b[1;32m    591\u001b[0m         \u001b[0mself\u001b[0m\u001b[0;34m.\u001b[0m\u001b[0m_check_closed\u001b[0m\u001b[0;34m(\u001b[0m\u001b[0;34m)\u001b[0m\u001b[0;34m\u001b[0m\u001b[0;34m\u001b[0m\u001b[0m\n\u001b[0;32m--> 592\u001b[0;31m         \u001b[0mself\u001b[0m\u001b[0;34m.\u001b[0m\u001b[0m_check_running\u001b[0m\u001b[0;34m(\u001b[0m\u001b[0;34m)\u001b[0m\u001b[0;34m\u001b[0m\u001b[0;34m\u001b[0m\u001b[0m\n\u001b[0m\u001b[1;32m    593\u001b[0m \u001b[0;34m\u001b[0m\u001b[0m\n\u001b[1;32m    594\u001b[0m         \u001b[0mnew_task\u001b[0m \u001b[0;34m=\u001b[0m \u001b[0;32mnot\u001b[0m \u001b[0mfutures\u001b[0m\u001b[0;34m.\u001b[0m\u001b[0misfuture\u001b[0m\u001b[0;34m(\u001b[0m\u001b[0mfuture\u001b[0m\u001b[0;34m)\u001b[0m\u001b[0;34m\u001b[0m\u001b[0;34m\u001b[0m\u001b[0m\n",
            "\u001b[0;32m/usr/lib/python3.8/asyncio/base_events.py\u001b[0m in \u001b[0;36m_check_running\u001b[0;34m(self)\u001b[0m\n\u001b[1;32m    550\u001b[0m     \u001b[0;32mdef\u001b[0m \u001b[0m_check_running\u001b[0m\u001b[0;34m(\u001b[0m\u001b[0mself\u001b[0m\u001b[0;34m)\u001b[0m\u001b[0;34m:\u001b[0m\u001b[0;34m\u001b[0m\u001b[0;34m\u001b[0m\u001b[0m\n\u001b[1;32m    551\u001b[0m         \u001b[0;32mif\u001b[0m \u001b[0mself\u001b[0m\u001b[0;34m.\u001b[0m\u001b[0mis_running\u001b[0m\u001b[0;34m(\u001b[0m\u001b[0;34m)\u001b[0m\u001b[0;34m:\u001b[0m\u001b[0;34m\u001b[0m\u001b[0;34m\u001b[0m\u001b[0m\n\u001b[0;32m--> 552\u001b[0;31m             \u001b[0;32mraise\u001b[0m \u001b[0mRuntimeError\u001b[0m\u001b[0;34m(\u001b[0m\u001b[0;34m'This event loop is already running'\u001b[0m\u001b[0;34m)\u001b[0m\u001b[0;34m\u001b[0m\u001b[0;34m\u001b[0m\u001b[0m\n\u001b[0m\u001b[1;32m    553\u001b[0m         \u001b[0;32mif\u001b[0m \u001b[0mevents\u001b[0m\u001b[0;34m.\u001b[0m\u001b[0m_get_running_loop\u001b[0m\u001b[0;34m(\u001b[0m\u001b[0;34m)\u001b[0m \u001b[0;32mis\u001b[0m \u001b[0;32mnot\u001b[0m \u001b[0;32mNone\u001b[0m\u001b[0;34m:\u001b[0m\u001b[0;34m\u001b[0m\u001b[0;34m\u001b[0m\u001b[0m\n\u001b[1;32m    554\u001b[0m             raise RuntimeError(\n",
            "\u001b[0;31mRuntimeError\u001b[0m: This event loop is already running"
          ]
        }
      ]
    },
    {
      "cell_type": "code",
      "source": [
        "try:\n",
        "    loop = asyncio.get_running_loop()\n",
        "    print(f\"An event loop is already running: {loop}\")\n",
        "except RuntimeError:\n",
        "    print(\"No event loop is running\")"
      ],
      "metadata": {
        "id": "E89CUVbELhah",
        "outputId": "208e86a0-561c-4ba5-f232-c753a79eb159",
        "colab": {
          "base_uri": "https://localhost:8080/"
        }
      },
      "execution_count": null,
      "outputs": [
        {
          "output_type": "stream",
          "name": "stdout",
          "text": [
            "An event loop is already running: <_UnixSelectorEventLoop running=True closed=False debug=False>\n"
          ]
        }
      ]
    },
    {
      "cell_type": "code",
      "source": [
        "async def my_coroutine():\n",
        "    # This coroutine will run indefinitely until the event loop is stopped\n",
        "    while True:\n",
        "        print(\"Waiting for 1 second...\")\n",
        "        await asyncio.sleep(1)\n",
        "\n",
        "# Start the event loop and run the coroutine\n",
        "loop = asyncio.get_event_loop()\n",
        "task = loop.create_task(my_coroutine())\n",
        "\n",
        "# ...do other stuff...\n",
        "\n",
        "# Stop the event loop\n",
        "loop.stop()\n",
        "\n",
        "# Wait for the coroutine to finish\n",
        "try:\n",
        "    loop.run_until_complete(task)\n",
        "except asyncio.CancelledError:\n",
        "    pass"
      ],
      "metadata": {
        "id": "ijUDiI5bL5L3",
        "outputId": "b597a07e-4d09-4f2a-ee89-2b76ff1687a4",
        "colab": {
          "base_uri": "https://localhost:8080/",
          "height": 383
        }
      },
      "execution_count": null,
      "outputs": [
        {
          "output_type": "error",
          "ename": "RuntimeError",
          "evalue": "ignored",
          "traceback": [
            "\u001b[0;31m---------------------------------------------------------------------------\u001b[0m",
            "\u001b[0;31mRuntimeError\u001b[0m                              Traceback (most recent call last)",
            "\u001b[0;32m<ipython-input-6-dd000a6cf6db>\u001b[0m in \u001b[0;36m<module>\u001b[0;34m\u001b[0m\n\u001b[1;32m     16\u001b[0m \u001b[0;31m# Wait for the coroutine to finish\u001b[0m\u001b[0;34m\u001b[0m\u001b[0;34m\u001b[0m\u001b[0;34m\u001b[0m\u001b[0m\n\u001b[1;32m     17\u001b[0m \u001b[0;32mtry\u001b[0m\u001b[0;34m:\u001b[0m\u001b[0;34m\u001b[0m\u001b[0;34m\u001b[0m\u001b[0m\n\u001b[0;32m---> 18\u001b[0;31m     \u001b[0mloop\u001b[0m\u001b[0;34m.\u001b[0m\u001b[0mrun_until_complete\u001b[0m\u001b[0;34m(\u001b[0m\u001b[0mtask\u001b[0m\u001b[0;34m)\u001b[0m\u001b[0;34m\u001b[0m\u001b[0;34m\u001b[0m\u001b[0m\n\u001b[0m\u001b[1;32m     19\u001b[0m \u001b[0;32mexcept\u001b[0m \u001b[0masyncio\u001b[0m\u001b[0;34m.\u001b[0m\u001b[0mCancelledError\u001b[0m\u001b[0;34m:\u001b[0m\u001b[0;34m\u001b[0m\u001b[0;34m\u001b[0m\u001b[0m\n\u001b[1;32m     20\u001b[0m     \u001b[0;32mpass\u001b[0m\u001b[0;34m\u001b[0m\u001b[0;34m\u001b[0m\u001b[0m\n",
            "\u001b[0;32m/usr/lib/python3.8/asyncio/base_events.py\u001b[0m in \u001b[0;36mrun_until_complete\u001b[0;34m(self, future)\u001b[0m\n\u001b[1;32m    590\u001b[0m         \"\"\"\n\u001b[1;32m    591\u001b[0m         \u001b[0mself\u001b[0m\u001b[0;34m.\u001b[0m\u001b[0m_check_closed\u001b[0m\u001b[0;34m(\u001b[0m\u001b[0;34m)\u001b[0m\u001b[0;34m\u001b[0m\u001b[0;34m\u001b[0m\u001b[0m\n\u001b[0;32m--> 592\u001b[0;31m         \u001b[0mself\u001b[0m\u001b[0;34m.\u001b[0m\u001b[0m_check_running\u001b[0m\u001b[0;34m(\u001b[0m\u001b[0;34m)\u001b[0m\u001b[0;34m\u001b[0m\u001b[0;34m\u001b[0m\u001b[0m\n\u001b[0m\u001b[1;32m    593\u001b[0m \u001b[0;34m\u001b[0m\u001b[0m\n\u001b[1;32m    594\u001b[0m         \u001b[0mnew_task\u001b[0m \u001b[0;34m=\u001b[0m \u001b[0;32mnot\u001b[0m \u001b[0mfutures\u001b[0m\u001b[0;34m.\u001b[0m\u001b[0misfuture\u001b[0m\u001b[0;34m(\u001b[0m\u001b[0mfuture\u001b[0m\u001b[0;34m)\u001b[0m\u001b[0;34m\u001b[0m\u001b[0;34m\u001b[0m\u001b[0m\n",
            "\u001b[0;32m/usr/lib/python3.8/asyncio/base_events.py\u001b[0m in \u001b[0;36m_check_running\u001b[0;34m(self)\u001b[0m\n\u001b[1;32m    550\u001b[0m     \u001b[0;32mdef\u001b[0m \u001b[0m_check_running\u001b[0m\u001b[0;34m(\u001b[0m\u001b[0mself\u001b[0m\u001b[0;34m)\u001b[0m\u001b[0;34m:\u001b[0m\u001b[0;34m\u001b[0m\u001b[0;34m\u001b[0m\u001b[0m\n\u001b[1;32m    551\u001b[0m         \u001b[0;32mif\u001b[0m \u001b[0mself\u001b[0m\u001b[0;34m.\u001b[0m\u001b[0mis_running\u001b[0m\u001b[0;34m(\u001b[0m\u001b[0;34m)\u001b[0m\u001b[0;34m:\u001b[0m\u001b[0;34m\u001b[0m\u001b[0;34m\u001b[0m\u001b[0m\n\u001b[0;32m--> 552\u001b[0;31m             \u001b[0;32mraise\u001b[0m \u001b[0mRuntimeError\u001b[0m\u001b[0;34m(\u001b[0m\u001b[0;34m'This event loop is already running'\u001b[0m\u001b[0;34m)\u001b[0m\u001b[0;34m\u001b[0m\u001b[0;34m\u001b[0m\u001b[0m\n\u001b[0m\u001b[1;32m    553\u001b[0m         \u001b[0;32mif\u001b[0m \u001b[0mevents\u001b[0m\u001b[0;34m.\u001b[0m\u001b[0m_get_running_loop\u001b[0m\u001b[0;34m(\u001b[0m\u001b[0;34m)\u001b[0m \u001b[0;32mis\u001b[0m \u001b[0;32mnot\u001b[0m \u001b[0;32mNone\u001b[0m\u001b[0;34m:\u001b[0m\u001b[0;34m\u001b[0m\u001b[0;34m\u001b[0m\u001b[0m\n\u001b[1;32m    554\u001b[0m             raise RuntimeError(\n",
            "\u001b[0;31mRuntimeError\u001b[0m: This event loop is already running"
          ]
        }
      ]
    },
    {
      "cell_type": "code",
      "source": [
        "async def my_coroutine():\n",
        "    # This coroutine will run indefinitely until the event loop is stopped\n",
        "    while True:\n",
        "        print(\"Waiting for 1 second...\")\n",
        "        await asyncio.sleep(1)\n",
        "\n",
        "# Start the event loop and run the coroutine\n",
        "loop = asyncio.get_event_loop()\n",
        "task = loop.create_task(my_coroutine())\n",
        "\n",
        "# ...do other stuff...\n",
        "\n",
        "# Stop the event loop\n",
        "loop.call_soon_threadsafe(loop.stop)\n",
        "\n",
        "# Wait for the coroutine to finish\n",
        "try:\n",
        "    loop.run_until_complete(task)\n",
        "except asyncio.CancelledError:\n",
        "    pass\n"
      ],
      "metadata": {
        "id": "I6-WlRecMKX0",
        "outputId": "45a7b857-078c-415d-9b8b-50c1619278a2",
        "colab": {
          "base_uri": "https://localhost:8080/",
          "height": 237
        }
      },
      "execution_count": null,
      "outputs": [
        {
          "output_type": "error",
          "ename": "NameError",
          "evalue": "ignored",
          "traceback": [
            "\u001b[0;31m---------------------------------------------------------------------------\u001b[0m",
            "\u001b[0;31mNameError\u001b[0m                                 Traceback (most recent call last)",
            "\u001b[0;32m<ipython-input-1-d3b576b41128>\u001b[0m in \u001b[0;36m<module>\u001b[0;34m\u001b[0m\n\u001b[1;32m      6\u001b[0m \u001b[0;34m\u001b[0m\u001b[0m\n\u001b[1;32m      7\u001b[0m \u001b[0;31m# Start the event loop and run the coroutine\u001b[0m\u001b[0;34m\u001b[0m\u001b[0;34m\u001b[0m\u001b[0;34m\u001b[0m\u001b[0m\n\u001b[0;32m----> 8\u001b[0;31m \u001b[0mloop\u001b[0m \u001b[0;34m=\u001b[0m \u001b[0masyncio\u001b[0m\u001b[0;34m.\u001b[0m\u001b[0mget_event_loop\u001b[0m\u001b[0;34m(\u001b[0m\u001b[0;34m)\u001b[0m\u001b[0;34m\u001b[0m\u001b[0;34m\u001b[0m\u001b[0m\n\u001b[0m\u001b[1;32m      9\u001b[0m \u001b[0mtask\u001b[0m \u001b[0;34m=\u001b[0m \u001b[0mloop\u001b[0m\u001b[0;34m.\u001b[0m\u001b[0mcreate_task\u001b[0m\u001b[0;34m(\u001b[0m\u001b[0mmy_coroutine\u001b[0m\u001b[0;34m(\u001b[0m\u001b[0;34m)\u001b[0m\u001b[0;34m)\u001b[0m\u001b[0;34m\u001b[0m\u001b[0;34m\u001b[0m\u001b[0m\n\u001b[1;32m     10\u001b[0m \u001b[0;34m\u001b[0m\u001b[0m\n",
            "\u001b[0;31mNameError\u001b[0m: name 'asyncio' is not defined"
          ]
        }
      ]
    },
    {
      "cell_type": "markdown",
      "source": [
        "Selcionamos os município de Petrópolis, Nova Frburgo e Teresópolis para essa análise desde o início do novo CAGED."
      ],
      "metadata": {
        "id": "9hMqN-zkVGAC"
      }
    },
    {
      "cell_type": "code",
      "source": [
        "municipios=[330340, 330390,330580]"
      ],
      "metadata": {
        "id": "HLj7CGvoD27Q"
      },
      "execution_count": null,
      "outputs": []
    },
    {
      "cell_type": "code",
      "source": [
        "df1=create_df(municipios,'012020')"
      ],
      "metadata": {
        "id": "TAou5rV8RXDp"
      },
      "execution_count": null,
      "outputs": []
    },
    {
      "cell_type": "markdown",
      "source": [
        "Esse programa sequencialmente demorou xxx minutos para se completar. Vamos testar agora com diferentes processos concorrentes. Multiprocessing e multi threding para otimizá-lo e identificar qual o mais rápido. Como esse é um problema de IO bound, a limitação não é da CPU, que fica parada muito tempo, mas uma restrição de rede, a multitrheading deve ser a melhor opção. \n",
        "Começamos por pegar os links a serem baixados."
      ],
      "metadata": {
        "id": "VZhr5y3OrCcp"
      }
    },
    {
      "cell_type": "code",
      "source": [
        "links=get_links('012020')"
      ],
      "metadata": {
        "id": "z0ayel5NqTOL"
      },
      "execution_count": null,
      "outputs": []
    },
    {
      "cell_type": "code",
      "source": [
        "links"
      ],
      "metadata": {
        "id": "AMe17u44tJ64"
      },
      "execution_count": null,
      "outputs": []
    },
    {
      "cell_type": "code",
      "source": [
        "df1"
      ],
      "metadata": {
        "colab": {
          "base_uri": "https://localhost:8080/",
          "height": 424
        },
        "id": "OEYhrU0tFscr",
        "outputId": "9c765e7c-d56e-44bc-fe7e-2532ff9f0300"
      },
      "execution_count": null,
      "outputs": [
        {
          "output_type": "execute_result",
          "data": {
            "text/plain": [
              "            municipio saldo   ano  mes  mes_ano  mes_anots\n",
              "1    Rj-Nova Friburgo   -97  2020  Jan  Jan2020 2020-01-01\n",
              "2       Rj-Petropolis  -177  2020  Jan  Jan2020 2020-01-01\n",
              "3      Rj-Teresopolis    43  2020  Jan  Jan2020 2020-01-01\n",
              "4    Rj-Nova Friburgo   220  2020  Fev  Fev2020 2020-02-01\n",
              "5       Rj-Petropolis   300  2020  Fev  Fev2020 2020-02-01\n",
              "..                ...   ...   ...  ...      ...        ...\n",
              "98      Rj-Petropolis   396  2022  Set  Set2022 2022-09-01\n",
              "99     Rj-Teresopolis    33  2022  Set  Set2022 2022-09-01\n",
              "100  Rj-Nova Friburgo   103  2022  Out  Out2022 2022-10-01\n",
              "101     Rj-Petropolis   203  2022  Out  Out2022 2022-10-01\n",
              "102    Rj-Teresopolis     6  2022  Out  Out2022 2022-10-01\n",
              "\n",
              "[102 rows x 6 columns]"
            ],
            "text/html": [
              "\n",
              "  <div id=\"df-47deb797-c618-48cb-9fae-9c5d5f6cf1f9\">\n",
              "    <div class=\"colab-df-container\">\n",
              "      <div>\n",
              "<style scoped>\n",
              "    .dataframe tbody tr th:only-of-type {\n",
              "        vertical-align: middle;\n",
              "    }\n",
              "\n",
              "    .dataframe tbody tr th {\n",
              "        vertical-align: top;\n",
              "    }\n",
              "\n",
              "    .dataframe thead th {\n",
              "        text-align: right;\n",
              "    }\n",
              "</style>\n",
              "<table border=\"1\" class=\"dataframe\">\n",
              "  <thead>\n",
              "    <tr style=\"text-align: right;\">\n",
              "      <th></th>\n",
              "      <th>municipio</th>\n",
              "      <th>saldo</th>\n",
              "      <th>ano</th>\n",
              "      <th>mes</th>\n",
              "      <th>mes_ano</th>\n",
              "      <th>mes_anots</th>\n",
              "    </tr>\n",
              "  </thead>\n",
              "  <tbody>\n",
              "    <tr>\n",
              "      <th>1</th>\n",
              "      <td>Rj-Nova Friburgo</td>\n",
              "      <td>-97</td>\n",
              "      <td>2020</td>\n",
              "      <td>Jan</td>\n",
              "      <td>Jan2020</td>\n",
              "      <td>2020-01-01</td>\n",
              "    </tr>\n",
              "    <tr>\n",
              "      <th>2</th>\n",
              "      <td>Rj-Petropolis</td>\n",
              "      <td>-177</td>\n",
              "      <td>2020</td>\n",
              "      <td>Jan</td>\n",
              "      <td>Jan2020</td>\n",
              "      <td>2020-01-01</td>\n",
              "    </tr>\n",
              "    <tr>\n",
              "      <th>3</th>\n",
              "      <td>Rj-Teresopolis</td>\n",
              "      <td>43</td>\n",
              "      <td>2020</td>\n",
              "      <td>Jan</td>\n",
              "      <td>Jan2020</td>\n",
              "      <td>2020-01-01</td>\n",
              "    </tr>\n",
              "    <tr>\n",
              "      <th>4</th>\n",
              "      <td>Rj-Nova Friburgo</td>\n",
              "      <td>220</td>\n",
              "      <td>2020</td>\n",
              "      <td>Fev</td>\n",
              "      <td>Fev2020</td>\n",
              "      <td>2020-02-01</td>\n",
              "    </tr>\n",
              "    <tr>\n",
              "      <th>5</th>\n",
              "      <td>Rj-Petropolis</td>\n",
              "      <td>300</td>\n",
              "      <td>2020</td>\n",
              "      <td>Fev</td>\n",
              "      <td>Fev2020</td>\n",
              "      <td>2020-02-01</td>\n",
              "    </tr>\n",
              "    <tr>\n",
              "      <th>...</th>\n",
              "      <td>...</td>\n",
              "      <td>...</td>\n",
              "      <td>...</td>\n",
              "      <td>...</td>\n",
              "      <td>...</td>\n",
              "      <td>...</td>\n",
              "    </tr>\n",
              "    <tr>\n",
              "      <th>98</th>\n",
              "      <td>Rj-Petropolis</td>\n",
              "      <td>396</td>\n",
              "      <td>2022</td>\n",
              "      <td>Set</td>\n",
              "      <td>Set2022</td>\n",
              "      <td>2022-09-01</td>\n",
              "    </tr>\n",
              "    <tr>\n",
              "      <th>99</th>\n",
              "      <td>Rj-Teresopolis</td>\n",
              "      <td>33</td>\n",
              "      <td>2022</td>\n",
              "      <td>Set</td>\n",
              "      <td>Set2022</td>\n",
              "      <td>2022-09-01</td>\n",
              "    </tr>\n",
              "    <tr>\n",
              "      <th>100</th>\n",
              "      <td>Rj-Nova Friburgo</td>\n",
              "      <td>103</td>\n",
              "      <td>2022</td>\n",
              "      <td>Out</td>\n",
              "      <td>Out2022</td>\n",
              "      <td>2022-10-01</td>\n",
              "    </tr>\n",
              "    <tr>\n",
              "      <th>101</th>\n",
              "      <td>Rj-Petropolis</td>\n",
              "      <td>203</td>\n",
              "      <td>2022</td>\n",
              "      <td>Out</td>\n",
              "      <td>Out2022</td>\n",
              "      <td>2022-10-01</td>\n",
              "    </tr>\n",
              "    <tr>\n",
              "      <th>102</th>\n",
              "      <td>Rj-Teresopolis</td>\n",
              "      <td>6</td>\n",
              "      <td>2022</td>\n",
              "      <td>Out</td>\n",
              "      <td>Out2022</td>\n",
              "      <td>2022-10-01</td>\n",
              "    </tr>\n",
              "  </tbody>\n",
              "</table>\n",
              "<p>102 rows × 6 columns</p>\n",
              "</div>\n",
              "      <button class=\"colab-df-convert\" onclick=\"convertToInteractive('df-47deb797-c618-48cb-9fae-9c5d5f6cf1f9')\"\n",
              "              title=\"Convert this dataframe to an interactive table.\"\n",
              "              style=\"display:none;\">\n",
              "        \n",
              "  <svg xmlns=\"http://www.w3.org/2000/svg\" height=\"24px\"viewBox=\"0 0 24 24\"\n",
              "       width=\"24px\">\n",
              "    <path d=\"M0 0h24v24H0V0z\" fill=\"none\"/>\n",
              "    <path d=\"M18.56 5.44l.94 2.06.94-2.06 2.06-.94-2.06-.94-.94-2.06-.94 2.06-2.06.94zm-11 1L8.5 8.5l.94-2.06 2.06-.94-2.06-.94L8.5 2.5l-.94 2.06-2.06.94zm10 10l.94 2.06.94-2.06 2.06-.94-2.06-.94-.94-2.06-.94 2.06-2.06.94z\"/><path d=\"M17.41 7.96l-1.37-1.37c-.4-.4-.92-.59-1.43-.59-.52 0-1.04.2-1.43.59L10.3 9.45l-7.72 7.72c-.78.78-.78 2.05 0 2.83L4 21.41c.39.39.9.59 1.41.59.51 0 1.02-.2 1.41-.59l7.78-7.78 2.81-2.81c.8-.78.8-2.07 0-2.86zM5.41 20L4 18.59l7.72-7.72 1.47 1.35L5.41 20z\"/>\n",
              "  </svg>\n",
              "      </button>\n",
              "      \n",
              "  <style>\n",
              "    .colab-df-container {\n",
              "      display:flex;\n",
              "      flex-wrap:wrap;\n",
              "      gap: 12px;\n",
              "    }\n",
              "\n",
              "    .colab-df-convert {\n",
              "      background-color: #E8F0FE;\n",
              "      border: none;\n",
              "      border-radius: 50%;\n",
              "      cursor: pointer;\n",
              "      display: none;\n",
              "      fill: #1967D2;\n",
              "      height: 32px;\n",
              "      padding: 0 0 0 0;\n",
              "      width: 32px;\n",
              "    }\n",
              "\n",
              "    .colab-df-convert:hover {\n",
              "      background-color: #E2EBFA;\n",
              "      box-shadow: 0px 1px 2px rgba(60, 64, 67, 0.3), 0px 1px 3px 1px rgba(60, 64, 67, 0.15);\n",
              "      fill: #174EA6;\n",
              "    }\n",
              "\n",
              "    [theme=dark] .colab-df-convert {\n",
              "      background-color: #3B4455;\n",
              "      fill: #D2E3FC;\n",
              "    }\n",
              "\n",
              "    [theme=dark] .colab-df-convert:hover {\n",
              "      background-color: #434B5C;\n",
              "      box-shadow: 0px 1px 3px 1px rgba(0, 0, 0, 0.15);\n",
              "      filter: drop-shadow(0px 1px 2px rgba(0, 0, 0, 0.3));\n",
              "      fill: #FFFFFF;\n",
              "    }\n",
              "  </style>\n",
              "\n",
              "      <script>\n",
              "        const buttonEl =\n",
              "          document.querySelector('#df-47deb797-c618-48cb-9fae-9c5d5f6cf1f9 button.colab-df-convert');\n",
              "        buttonEl.style.display =\n",
              "          google.colab.kernel.accessAllowed ? 'block' : 'none';\n",
              "\n",
              "        async function convertToInteractive(key) {\n",
              "          const element = document.querySelector('#df-47deb797-c618-48cb-9fae-9c5d5f6cf1f9');\n",
              "          const dataTable =\n",
              "            await google.colab.kernel.invokeFunction('convertToInteractive',\n",
              "                                                     [key], {});\n",
              "          if (!dataTable) return;\n",
              "\n",
              "          const docLinkHtml = 'Like what you see? Visit the ' +\n",
              "            '<a target=\"_blank\" href=https://colab.research.google.com/notebooks/data_table.ipynb>data table notebook</a>'\n",
              "            + ' to learn more about interactive tables.';\n",
              "          element.innerHTML = '';\n",
              "          dataTable['output_type'] = 'display_data';\n",
              "          await google.colab.output.renderOutput(dataTable, element);\n",
              "          const docLink = document.createElement('div');\n",
              "          docLink.innerHTML = docLinkHtml;\n",
              "          element.appendChild(docLink);\n",
              "        }\n",
              "      </script>\n",
              "    </div>\n",
              "  </div>\n",
              "  "
            ]
          },
          "metadata": {},
          "execution_count": 137
        }
      ]
    },
    {
      "cell_type": "markdown",
      "source": [
        "Para fazer o download do dataframe df1 que contém toda a informação obtida:"
      ],
      "metadata": {
        "id": "qbybFSXSVsrp"
      }
    },
    {
      "cell_type": "code",
      "source": [
        "from google.colab import files\n",
        "df1.to_csv('df1.csv')\n",
        "files.download(\"df1.csv\")"
      ],
      "metadata": {
        "colab": {
          "base_uri": "https://localhost:8080/",
          "height": 17
        },
        "id": "LQWGEiqmXMa1",
        "outputId": "e24a545b-148f-4df4-e4fe-91c18e58f55f"
      },
      "execution_count": null,
      "outputs": [
        {
          "output_type": "display_data",
          "data": {
            "text/plain": [
              "<IPython.core.display.Javascript object>"
            ],
            "application/javascript": [
              "\n",
              "    async function download(id, filename, size) {\n",
              "      if (!google.colab.kernel.accessAllowed) {\n",
              "        return;\n",
              "      }\n",
              "      const div = document.createElement('div');\n",
              "      const label = document.createElement('label');\n",
              "      label.textContent = `Downloading \"${filename}\": `;\n",
              "      div.appendChild(label);\n",
              "      const progress = document.createElement('progress');\n",
              "      progress.max = size;\n",
              "      div.appendChild(progress);\n",
              "      document.body.appendChild(div);\n",
              "\n",
              "      const buffers = [];\n",
              "      let downloaded = 0;\n",
              "\n",
              "      const channel = await google.colab.kernel.comms.open(id);\n",
              "      // Send a message to notify the kernel that we're ready.\n",
              "      channel.send({})\n",
              "\n",
              "      for await (const message of channel.messages) {\n",
              "        // Send a message to notify the kernel that we're ready.\n",
              "        channel.send({})\n",
              "        if (message.buffers) {\n",
              "          for (const buffer of message.buffers) {\n",
              "            buffers.push(buffer);\n",
              "            downloaded += buffer.byteLength;\n",
              "            progress.value = downloaded;\n",
              "          }\n",
              "        }\n",
              "      }\n",
              "      const blob = new Blob(buffers, {type: 'application/binary'});\n",
              "      const a = document.createElement('a');\n",
              "      a.href = window.URL.createObjectURL(blob);\n",
              "      a.download = filename;\n",
              "      div.appendChild(a);\n",
              "      a.click();\n",
              "      div.remove();\n",
              "    }\n",
              "  "
            ]
          },
          "metadata": {}
        },
        {
          "output_type": "display_data",
          "data": {
            "text/plain": [
              "<IPython.core.display.Javascript object>"
            ],
            "application/javascript": [
              "download(\"download_33a0933d-6cbb-4635-b10e-8131c444031a\", \"df1.csv\", 3229)"
            ]
          },
          "metadata": {}
        }
      ]
    },
    {
      "cell_type": "code",
      "source": [
        "df1"
      ],
      "metadata": {
        "colab": {
          "base_uri": "https://localhost:8080/",
          "height": 424
        },
        "id": "n7Cs90e2oQrC",
        "outputId": "6b7d2c20-8b6d-46c0-c3f6-88e7ce693631"
      },
      "execution_count": null,
      "outputs": [
        {
          "output_type": "execute_result",
          "data": {
            "text/plain": [
              "            municipio saldo   ano  mes  mes_ano  mes_anots\n",
              "1    Rj-Nova Friburgo   -97  2020  Jan  Jan2020 2020-01-01\n",
              "2       Rj-Petropolis  -177  2020  Jan  Jan2020 2020-01-01\n",
              "3      Rj-Teresopolis    43  2020  Jan  Jan2020 2020-01-01\n",
              "4    Rj-Nova Friburgo   220  2020  Fev  Fev2020 2020-02-01\n",
              "5       Rj-Petropolis   300  2020  Fev  Fev2020 2020-02-01\n",
              "..                ...   ...   ...  ...      ...        ...\n",
              "98      Rj-Petropolis   396  2022  Set  Set2022 2022-09-01\n",
              "99     Rj-Teresopolis    33  2022  Set  Set2022 2022-09-01\n",
              "100  Rj-Nova Friburgo   103  2022  Out  Out2022 2022-10-01\n",
              "101     Rj-Petropolis   203  2022  Out  Out2022 2022-10-01\n",
              "102    Rj-Teresopolis     6  2022  Out  Out2022 2022-10-01\n",
              "\n",
              "[102 rows x 6 columns]"
            ],
            "text/html": [
              "\n",
              "  <div id=\"df-1ebdd308-3dac-4bf0-8f7b-76fbee67095d\">\n",
              "    <div class=\"colab-df-container\">\n",
              "      <div>\n",
              "<style scoped>\n",
              "    .dataframe tbody tr th:only-of-type {\n",
              "        vertical-align: middle;\n",
              "    }\n",
              "\n",
              "    .dataframe tbody tr th {\n",
              "        vertical-align: top;\n",
              "    }\n",
              "\n",
              "    .dataframe thead th {\n",
              "        text-align: right;\n",
              "    }\n",
              "</style>\n",
              "<table border=\"1\" class=\"dataframe\">\n",
              "  <thead>\n",
              "    <tr style=\"text-align: right;\">\n",
              "      <th></th>\n",
              "      <th>municipio</th>\n",
              "      <th>saldo</th>\n",
              "      <th>ano</th>\n",
              "      <th>mes</th>\n",
              "      <th>mes_ano</th>\n",
              "      <th>mes_anots</th>\n",
              "    </tr>\n",
              "  </thead>\n",
              "  <tbody>\n",
              "    <tr>\n",
              "      <th>1</th>\n",
              "      <td>Rj-Nova Friburgo</td>\n",
              "      <td>-97</td>\n",
              "      <td>2020</td>\n",
              "      <td>Jan</td>\n",
              "      <td>Jan2020</td>\n",
              "      <td>2020-01-01</td>\n",
              "    </tr>\n",
              "    <tr>\n",
              "      <th>2</th>\n",
              "      <td>Rj-Petropolis</td>\n",
              "      <td>-177</td>\n",
              "      <td>2020</td>\n",
              "      <td>Jan</td>\n",
              "      <td>Jan2020</td>\n",
              "      <td>2020-01-01</td>\n",
              "    </tr>\n",
              "    <tr>\n",
              "      <th>3</th>\n",
              "      <td>Rj-Teresopolis</td>\n",
              "      <td>43</td>\n",
              "      <td>2020</td>\n",
              "      <td>Jan</td>\n",
              "      <td>Jan2020</td>\n",
              "      <td>2020-01-01</td>\n",
              "    </tr>\n",
              "    <tr>\n",
              "      <th>4</th>\n",
              "      <td>Rj-Nova Friburgo</td>\n",
              "      <td>220</td>\n",
              "      <td>2020</td>\n",
              "      <td>Fev</td>\n",
              "      <td>Fev2020</td>\n",
              "      <td>2020-02-01</td>\n",
              "    </tr>\n",
              "    <tr>\n",
              "      <th>5</th>\n",
              "      <td>Rj-Petropolis</td>\n",
              "      <td>300</td>\n",
              "      <td>2020</td>\n",
              "      <td>Fev</td>\n",
              "      <td>Fev2020</td>\n",
              "      <td>2020-02-01</td>\n",
              "    </tr>\n",
              "    <tr>\n",
              "      <th>...</th>\n",
              "      <td>...</td>\n",
              "      <td>...</td>\n",
              "      <td>...</td>\n",
              "      <td>...</td>\n",
              "      <td>...</td>\n",
              "      <td>...</td>\n",
              "    </tr>\n",
              "    <tr>\n",
              "      <th>98</th>\n",
              "      <td>Rj-Petropolis</td>\n",
              "      <td>396</td>\n",
              "      <td>2022</td>\n",
              "      <td>Set</td>\n",
              "      <td>Set2022</td>\n",
              "      <td>2022-09-01</td>\n",
              "    </tr>\n",
              "    <tr>\n",
              "      <th>99</th>\n",
              "      <td>Rj-Teresopolis</td>\n",
              "      <td>33</td>\n",
              "      <td>2022</td>\n",
              "      <td>Set</td>\n",
              "      <td>Set2022</td>\n",
              "      <td>2022-09-01</td>\n",
              "    </tr>\n",
              "    <tr>\n",
              "      <th>100</th>\n",
              "      <td>Rj-Nova Friburgo</td>\n",
              "      <td>103</td>\n",
              "      <td>2022</td>\n",
              "      <td>Out</td>\n",
              "      <td>Out2022</td>\n",
              "      <td>2022-10-01</td>\n",
              "    </tr>\n",
              "    <tr>\n",
              "      <th>101</th>\n",
              "      <td>Rj-Petropolis</td>\n",
              "      <td>203</td>\n",
              "      <td>2022</td>\n",
              "      <td>Out</td>\n",
              "      <td>Out2022</td>\n",
              "      <td>2022-10-01</td>\n",
              "    </tr>\n",
              "    <tr>\n",
              "      <th>102</th>\n",
              "      <td>Rj-Teresopolis</td>\n",
              "      <td>6</td>\n",
              "      <td>2022</td>\n",
              "      <td>Out</td>\n",
              "      <td>Out2022</td>\n",
              "      <td>2022-10-01</td>\n",
              "    </tr>\n",
              "  </tbody>\n",
              "</table>\n",
              "<p>102 rows × 6 columns</p>\n",
              "</div>\n",
              "      <button class=\"colab-df-convert\" onclick=\"convertToInteractive('df-1ebdd308-3dac-4bf0-8f7b-76fbee67095d')\"\n",
              "              title=\"Convert this dataframe to an interactive table.\"\n",
              "              style=\"display:none;\">\n",
              "        \n",
              "  <svg xmlns=\"http://www.w3.org/2000/svg\" height=\"24px\"viewBox=\"0 0 24 24\"\n",
              "       width=\"24px\">\n",
              "    <path d=\"M0 0h24v24H0V0z\" fill=\"none\"/>\n",
              "    <path d=\"M18.56 5.44l.94 2.06.94-2.06 2.06-.94-2.06-.94-.94-2.06-.94 2.06-2.06.94zm-11 1L8.5 8.5l.94-2.06 2.06-.94-2.06-.94L8.5 2.5l-.94 2.06-2.06.94zm10 10l.94 2.06.94-2.06 2.06-.94-2.06-.94-.94-2.06-.94 2.06-2.06.94z\"/><path d=\"M17.41 7.96l-1.37-1.37c-.4-.4-.92-.59-1.43-.59-.52 0-1.04.2-1.43.59L10.3 9.45l-7.72 7.72c-.78.78-.78 2.05 0 2.83L4 21.41c.39.39.9.59 1.41.59.51 0 1.02-.2 1.41-.59l7.78-7.78 2.81-2.81c.8-.78.8-2.07 0-2.86zM5.41 20L4 18.59l7.72-7.72 1.47 1.35L5.41 20z\"/>\n",
              "  </svg>\n",
              "      </button>\n",
              "      \n",
              "  <style>\n",
              "    .colab-df-container {\n",
              "      display:flex;\n",
              "      flex-wrap:wrap;\n",
              "      gap: 12px;\n",
              "    }\n",
              "\n",
              "    .colab-df-convert {\n",
              "      background-color: #E8F0FE;\n",
              "      border: none;\n",
              "      border-radius: 50%;\n",
              "      cursor: pointer;\n",
              "      display: none;\n",
              "      fill: #1967D2;\n",
              "      height: 32px;\n",
              "      padding: 0 0 0 0;\n",
              "      width: 32px;\n",
              "    }\n",
              "\n",
              "    .colab-df-convert:hover {\n",
              "      background-color: #E2EBFA;\n",
              "      box-shadow: 0px 1px 2px rgba(60, 64, 67, 0.3), 0px 1px 3px 1px rgba(60, 64, 67, 0.15);\n",
              "      fill: #174EA6;\n",
              "    }\n",
              "\n",
              "    [theme=dark] .colab-df-convert {\n",
              "      background-color: #3B4455;\n",
              "      fill: #D2E3FC;\n",
              "    }\n",
              "\n",
              "    [theme=dark] .colab-df-convert:hover {\n",
              "      background-color: #434B5C;\n",
              "      box-shadow: 0px 1px 3px 1px rgba(0, 0, 0, 0.15);\n",
              "      filter: drop-shadow(0px 1px 2px rgba(0, 0, 0, 0.3));\n",
              "      fill: #FFFFFF;\n",
              "    }\n",
              "  </style>\n",
              "\n",
              "      <script>\n",
              "        const buttonEl =\n",
              "          document.querySelector('#df-1ebdd308-3dac-4bf0-8f7b-76fbee67095d button.colab-df-convert');\n",
              "        buttonEl.style.display =\n",
              "          google.colab.kernel.accessAllowed ? 'block' : 'none';\n",
              "\n",
              "        async function convertToInteractive(key) {\n",
              "          const element = document.querySelector('#df-1ebdd308-3dac-4bf0-8f7b-76fbee67095d');\n",
              "          const dataTable =\n",
              "            await google.colab.kernel.invokeFunction('convertToInteractive',\n",
              "                                                     [key], {});\n",
              "          if (!dataTable) return;\n",
              "\n",
              "          const docLinkHtml = 'Like what you see? Visit the ' +\n",
              "            '<a target=\"_blank\" href=https://colab.research.google.com/notebooks/data_table.ipynb>data table notebook</a>'\n",
              "            + ' to learn more about interactive tables.';\n",
              "          element.innerHTML = '';\n",
              "          dataTable['output_type'] = 'display_data';\n",
              "          await google.colab.output.renderOutput(dataTable, element);\n",
              "          const docLink = document.createElement('div');\n",
              "          docLink.innerHTML = docLinkHtml;\n",
              "          element.appendChild(docLink);\n",
              "        }\n",
              "      </script>\n",
              "    </div>\n",
              "  </div>\n",
              "  "
            ]
          },
          "metadata": {},
          "execution_count": 105
        }
      ]
    },
    {
      "cell_type": "markdown",
      "source": [
        "Uma opção de visualização"
      ],
      "metadata": {
        "id": "TXxrIWLlVilE"
      }
    },
    {
      "cell_type": "code",
      "source": [
        "figure(figsize=(10, 15), dpi=80)\n",
        "col1 = 'steelblue'\n",
        "d1=df1.loc[df1.municipio=='Rj-Nova Friburgo']\n",
        "col2 = 'red'\n",
        "d2=df1.loc[df1.municipio=='Rj-Petropolis']\n",
        "col3='black'\n",
        "d3=df1.loc[df1.municipio=='Rj-Teresopolis']\n",
        "plt.plot(d1.mes_ano, d1.saldo, color=col1, marker='o', linewidth=3,\n",
        "         label='Nova Friburgo')\n",
        "plt.xticks(rotation=90)\n",
        "plt.plot(d2.mes_ano, d2.saldo, color=col2, marker='o', linewidth=3,\n",
        "         label='Petrópolis')\n",
        "plt.plot(d3.mes_ano, d3.saldo, color=col3, marker='o', linewidth=3,\n",
        "         label='Teresópolis')\n",
        "plt.legend()#loc=\"upper left\")"
      ],
      "metadata": {
        "colab": {
          "base_uri": "https://localhost:8080/",
          "height": 1000
        },
        "id": "mdRiPNcvuJsT",
        "outputId": "ed118a02-c026-47a4-b1cf-c2c1b853e0de"
      },
      "execution_count": null,
      "outputs": [
        {
          "output_type": "execute_result",
          "data": {
            "text/plain": [
              "<matplotlib.legend.Legend at 0x7efc03449be0>"
            ]
          },
          "metadata": {},
          "execution_count": 136
        },
        {
          "output_type": "display_data",
          "data": {
            "text/plain": [
              "<Figure size 800x1200 with 1 Axes>"
            ],
            "image/png": "[encoded data removed]"
          },
          "metadata": {
            "needs_background": "light"
          }
        }
      ]
    },
    {
      "cell_type": "markdown",
      "source": [
        "Bom trabalho com suas análises! "
      ],
      "metadata": {
        "id": "vVHzS9iGPDp2"
      }
    }
  ]
}